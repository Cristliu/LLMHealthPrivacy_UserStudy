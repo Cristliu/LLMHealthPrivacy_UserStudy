{
 "cells": [
  {
   "cell_type": "markdown",
   "id": "e313eb8d",
   "metadata": {
    "toc": true
   },
   "source": [
    "<h1>Table of Contents<span class=\"tocSkip\"></span></h1>\n",
    "<div class=\"toc\"><ul class=\"toc-item\"><li><span><a href=\"#Data_load\" data-toc-modified-id=\"Data_load-1\"><span class=\"toc-item-num\">1&nbsp;&nbsp;</span>Data_load</a></span></li><li><span><a href=\"#Analysis\" data-toc-modified-id=\"Analysis-2\"><span class=\"toc-item-num\">2&nbsp;&nbsp;</span>Analysis</a></span></li><li><span><a href=\"#Visualization\" data-toc-modified-id=\"Visualization-3\"><span class=\"toc-item-num\">3&nbsp;&nbsp;</span>Visualization</a></span><ul class=\"toc-item\"><li><span><a href=\"#ProvideInfo_data\" data-toc-modified-id=\"ProvideInfo_data-3.1\"><span class=\"toc-item-num\">3.1&nbsp;&nbsp;</span>ProvideInfo_data</a></span></li><li><span><a href=\"#Likert-data\" data-toc-modified-id=\"Likert-data-3.2\"><span class=\"toc-item-num\">3.2&nbsp;&nbsp;</span>Likert data</a></span></li></ul></li><li><span><a href=\"#Qualitative-analysis\" data-toc-modified-id=\"Qualitative-analysis-4\"><span class=\"toc-item-num\">4&nbsp;&nbsp;</span>Qualitative analysis</a></span><ul class=\"toc-item\"><li><span><a href=\"#Dissatisfaction\" data-toc-modified-id=\"Dissatisfaction-4.1\"><span class=\"toc-item-num\">4.1&nbsp;&nbsp;</span>Dissatisfaction</a></span></li><li><span><a href=\"#What-privacy-has-been-compromised?-(Optional)\" data-toc-modified-id=\"What-privacy-has-been-compromised?-(Optional)-4.2\"><span class=\"toc-item-num\">4.2&nbsp;&nbsp;</span>What privacy has been compromised? (Optional)</a></span></li></ul></li></ul></div>"
   ]
  },
  {
   "cell_type": "code",
   "execution_count": 4,
   "id": "41b72f79",
   "metadata": {
    "ExecuteTime": {
     "end_time": "2024-08-28T06:52:40.259849Z",
     "start_time": "2024-08-28T06:52:40.248072Z"
    }
   },
   "outputs": [],
   "source": [
    "import os\n",
    "import pandas as pd\n",
    "from pyecharts.charts import Map\n",
    "from pyecharts import options as opts\n",
    "from pyecharts.globals import ThemeType\n",
    "import copy\n",
    "import scipy.stats as stats\n",
    "import seaborn as sns\n",
    "import matplotlib.pyplot as plt\n",
    "from matplotlib.font_manager import FontProperties\n",
    "import matplotlib as mpl\n",
    "import matplotlib.colors as mcolors\n",
    "import scienceplots\n",
    "from itertools import combinations\n",
    "import matplotlib.ticker as ticker\n",
    "from collections import Counter\n",
    "from matplotlib.patches import Patch\n",
    "from sklearn.metrics import cohen_kappa_score\n",
    "import re"
   ]
  },
  {
   "cell_type": "markdown",
   "id": "e99d51bc",
   "metadata": {},
   "source": [
    "## Data_load"
   ]
  },
  {
   "cell_type": "code",
   "execution_count": 5,
   "id": "aa3808db",
   "metadata": {
    "ExecuteTime": {
     "end_time": "2024-08-28T06:52:43.514465Z",
     "start_time": "2024-08-28T06:52:42.715766Z"
    }
   },
   "outputs": [
    {
     "name": "stdout",
     "output_type": "stream",
     "text": [
      "(846, 45)\n",
      "Index(['Which of the following best describes who you are when using the healthcare chatbot? ',\n",
      "       'Did you provide any personal information, such as age, in the consultation experience? Why？',\n",
      "       'What is your dissatisfaction with the consultation experience?',\n",
      "       'Will you verify this advice?', 'Will you adopt this advice?',\n",
      "       'Do you think this consultation has breached your privacy?',\n",
      "       'What privacy has been compromised? (Optional)', 'basic information',\n",
      "       'lifestyle', 'mental health information', 'medical Information',\n",
      "       'Your family members', 'Healthcare providers', 'Government agencies',\n",
      "       'LLM service providers', 'Recipient-Family members',\n",
      "       'Recipient-Healthcare providers', 'Recipient-Government agencies',\n",
      "       'Recipient-LLM service providers', 'If you have given consent',\n",
      "       'If you are notified before collection',\n",
      "       'If information is kept confidential and not stored',\n",
      "       'If information will be stored',\n",
      "       'If information is used for health monitoring',\n",
      "       'If information is shared with others',\n",
      "       'If it complies with information protection regulations',\n",
      "       'If information is provided for academic research',\n",
      "       'If information is used in public health surveys',\n",
      "       'If used for information analysis and service improvement',\n",
      "       'Did you select the answer for each row based on “with your consent”?',\n",
      "       'Which option is not mentioned above?',\n",
      "       'Do you have any healthcare consultation experience with any AI-large-scale-model except in our survey?',\n",
      "       'Which AI-large-scale-model platforms have you used for healthcare consultation?',\n",
      "       'Do you feel there was a breach of privacy during the previous LLM-based healthcare consultation services?',\n",
      "       'Do you have any experience with any AI-large-scale-model except in our survey?',\n",
      "       'Which AI-large-scale-model platforms have you used?',\n",
      "       'Have you ever heard of AI-large-scale-model?',\n",
      "       'Do you have any healthcare consultation experience online?',\n",
      "       'Is online healthcare consultation more likely to compromise privacy than asking a doctor face-to-face?',\n",
      "       'You will use reliable LLM-based healthcare consultation services in the future',\n",
      "       'Why do you choose to use LLM-based healthcare consultation services?',\n",
      "       'Why don't you want to use LLM-based healthcare consultation services?',\n",
      "       'You understand health privacy',\n",
      "       'You are concerned about health privacy',\n",
      "       'Have you experienced a health privacy breach?'],\n",
      "      dtype='object')\n"
     ]
    }
   ],
   "source": [
    "Analysis_df = pd.read_excel('Data/REDACTED_Data.xlsx')\n",
    "\n",
    "print(Analysis_df.shape)\n",
    "print(Analysis_df.columns)"
   ]
  },
  {
   "cell_type": "markdown",
   "id": "918e1046",
   "metadata": {},
   "source": [
    "## Analysis"
   ]
  },
  {
   "cell_type": "code",
   "execution_count": 6,
   "id": "1af4e102",
   "metadata": {
    "ExecuteTime": {
     "end_time": "2024-08-28T06:55:52.550164Z",
     "start_time": "2024-08-28T06:55:52.491215Z"
    }
   },
   "outputs": [],
   "source": [
    "value_counts_role = Analysis_df['Which of the following best describes who you are when using the healthcare chatbot? '].value_counts()\n",
    "value_counts_provideinfo = Analysis_df['Did you provide any personal information, such as age, in the consultation experience? Why？'].value_counts()\n",
    "value_counts_checksugg = Analysis_df['Will you verify this advice?'].value_counts()\n",
    "value_counts_takesugg = Analysis_df['Will you adopt this advice?'].value_counts()\n",
    "value_counts_LeakPrivacy = Analysis_df['Do you think this consultation has breached your privacy?'].value_counts()\n",
    "\n",
    "# value_counts_AIConsult = Analysis_df['Do you have any healthcare consultation experience with any AI-large-scale-model except in our survey?'].value_counts()\n",
    "# count_AICons_no_AI_yes = Analysis_df[(Analysis_df['Do you have any healthcare consultation experience with any AI-large-scale-model except in our survey?'] == 'No') & (Analysis_df['Do you have any experience with any AI-large-scale-model except in our survey?'] == 'Yes')].shape[0]\n",
    "# value_counts_AI_no_listen = Analysis_df[(Analysis_df['Do you have any healthcare consultation experience with any AI-large-scale-model except in our survey?'] == 'No') & (Analysis_df['Do you have any experience with any AI-large-scale-model except in our survey?'] == 'No')]['Have you ever heard of AI-large-scale-model?'].value_counts()\n",
    "# value_counts_AICons_no_online = Analysis_df[Analysis_df['Do you have any healthcare consultation experience with any AI-large-scale-model except in our survey?'] == 'No']['Do you have any healthcare consultation experience online?'].value_counts()\n"
   ]
  },
  {
   "cell_type": "code",
   "execution_count": 7,
   "id": "ee1ecb76",
   "metadata": {
    "ExecuteTime": {
     "end_time": "2024-08-28T06:56:00.979530Z",
     "start_time": "2024-08-28T06:56:00.951500Z"
    },
    "scrolled": false
   },
   "outputs": [
    {
     "name": "stdout",
     "output_type": "stream",
     "text": [
      "Users consulting on personal health issues              381\n",
      "Users consulting on general health knowledge            333\n",
      "Healthcare professional or with a medical background    132\n",
      "Name: Which of the following best describes who you are when using the healthcare chatbot? , dtype: int64\n",
      "Yes [Seeking personalized advice]                            309\n",
      "Yes [Believing LLM will keep my information confidential]    244\n",
      "No [The question is unrelated to personal information]       115\n",
      "No [Concerned about privacy; prefer not to disclose]          84\n",
      "Yes [LLM requested during the conversation]                   47\n",
      "Yes [Other]                                                   19\n",
      "No [Other]                                                    15\n",
      "No [Believing it's pointless to disclose]                     13\n",
      "Name: Did you provide any personal information, such as age, in the consultation experience? Why？, dtype: int64\n",
      "Likely                329\n",
      "Extremely likely      215\n",
      "Neutral               177\n",
      "Unlikely               84\n",
      "Extremely unlikely     41\n",
      "Name: Will you verify this advice?, dtype: int64\n",
      "Likely                404\n",
      "Extremely likely      213\n",
      "Neutral               191\n",
      "Unlikely               34\n",
      "Extremely unlikely      4\n",
      "Name: Will you adopt this advice?, dtype: int64\n",
      "Unlikely              311\n",
      "Extremely unlikely    256\n",
      "Neutral               221\n",
      "Likely                 43\n",
      "Extremely likely       15\n",
      "Name: Do you think this consultation has breached your privacy?, dtype: int64\n"
     ]
    }
   ],
   "source": [
    "print(value_counts_role)\n",
    "print(value_counts_provideinfo)\n",
    "print(value_counts_checksugg)\n",
    "print(value_counts_takesugg)\n",
    "print(value_counts_LeakPrivacy)"
   ]
  },
  {
   "cell_type": "code",
   "execution_count": 8,
   "id": "8e53ff31",
   "metadata": {
    "ExecuteTime": {
     "end_time": "2024-08-28T06:56:21.053094Z",
     "start_time": "2024-08-28T06:56:21.034531Z"
    }
   },
   "outputs": [
    {
     "name": "stdout",
     "output_type": "stream",
     "text": [
      "Users consulting on personal health issues              381\n",
      "Users consulting on general health knowledge            333\n",
      "Healthcare professional or with a medical background    132\n",
      "Name: Which of the following best describes who you are when using the healthcare chatbot? , dtype: int64\n",
      "Users consulting on personal health issues: 45.04%\n",
      "Users consulting on general health knowledge: 39.36%\n",
      "Healthcare professional or with a medical background: 15.60%\n"
     ]
    }
   ],
   "source": [
    "print(value_counts_role)\n",
    "key_percentages = {key: count / Analysis_df.shape[0] for key, count in value_counts_role.items()}\n",
    "for key, value in key_percentages.items():\n",
    "    print(f\"{key}: {value:.2%}\")"
   ]
  },
  {
   "cell_type": "code",
   "execution_count": 9,
   "id": "41a73019",
   "metadata": {
    "ExecuteTime": {
     "end_time": "2024-08-28T06:56:30.248014Z",
     "start_time": "2024-08-28T06:56:30.221568Z"
    },
    "scrolled": false
   },
   "outputs": [
    {
     "name": "stdout",
     "output_type": "stream",
     "text": [
      "Yes [Seeking personalized advice]                            309\n",
      "Yes [Believing LLM will keep my information confidential]    244\n",
      "No [The question is unrelated to personal information]       115\n",
      "No [Concerned about privacy; prefer not to disclose]          84\n",
      "Yes [LLM requested during the conversation]                   47\n",
      "Yes [Other]                                                   19\n",
      "No [Other]                                                    15\n",
      "No [Believing it's pointless to disclose]                     13\n",
      "Name: Did you provide any personal information, such as age, in the consultation experience? Why？, dtype: int64\n",
      "Yes [Seeking personalized advice]: 36.52%\n",
      "Yes [Believing LLM will keep my information confidential]: 28.84%\n",
      "No [The question is unrelated to personal information]: 13.59%\n",
      "No [Concerned about privacy; prefer not to disclose]: 9.93%\n",
      "Yes [LLM requested during the conversation]: 5.56%\n",
      "Yes [Other]: 2.25%\n",
      "No [Other]: 1.77%\n",
      "No [Believing it's pointless to disclose]: 1.54%\n"
     ]
    }
   ],
   "source": [
    "print(value_counts_provideinfo)\n",
    "key_percentages = {key: count / Analysis_df.shape[0] for key, count in value_counts_provideinfo.items()}\n",
    "for key, value in key_percentages.items():\n",
    "    print(f\"{key}: {value:.2%}\")"
   ]
  },
  {
   "cell_type": "code",
   "execution_count": 11,
   "id": "3d5eb9e2",
   "metadata": {
    "ExecuteTime": {
     "end_time": "2024-08-28T06:58:09.411303Z",
     "start_time": "2024-08-28T06:58:09.357357Z"
    }
   },
   "outputs": [
    {
     "name": "stdout",
     "output_type": "stream",
     "text": [
      "yes    619\n",
      "no     227\n",
      "Name: provideinfo_yesorno, dtype: int64\n",
      "yes: 73.17%\n",
      "no: 26.83%\n"
     ]
    }
   ],
   "source": [
    "Analysis_df.loc[Analysis_df['Did you provide any personal information, such as age, in the consultation experience? Why？'].str.startswith('Yes'), 'provideinfo_yesorno'] = 'yes'\n",
    "Analysis_df.loc[Analysis_df['Did you provide any personal information, such as age, in the consultation experience? Why？'].str.startswith('No'), 'provideinfo_yesorno'] = 'no'\n",
    "\n",
    "provideinfo_yesorno = Analysis_df[\"provideinfo_yesorno\"].value_counts()\n",
    "print(provideinfo_yesorno)\n",
    "key_percentages = {key: count / Analysis_df.shape[0] for key, count in provideinfo_yesorno.items()}\n",
    "for key, value in key_percentages.items():\n",
    "    print(f\"{key}: {value:.2%}\")"
   ]
  },
  {
   "cell_type": "markdown",
   "id": "1fd838c0",
   "metadata": {},
   "source": [
    "## Visualization"
   ]
  },
  {
   "cell_type": "markdown",
   "id": "80e9c65e",
   "metadata": {},
   "source": [
    "### ProvideInfo_data"
   ]
  },
  {
   "cell_type": "code",
   "execution_count": 12,
   "id": "bb27db42",
   "metadata": {
    "ExecuteTime": {
     "end_time": "2024-08-28T07:02:58.477003Z",
     "start_time": "2024-08-28T07:02:58.461095Z"
    }
   },
   "outputs": [],
   "source": [
    "ProvideInfo_data = {\n",
    "    'Reason': [\"Seeking personalized advice\", \n",
    "               \"Believing LLM will keep my information confidential\",\n",
    "               \"LLM requested during the conversation\",\n",
    "               \"Other (Yes)\",\n",
    "               \"The question is unrelated to personal information\",\n",
    "               \"Concerned about privacy, prefer not to disclose\",\n",
    "               \"Other (No)\",\n",
    "               \"Believing it's pointless to disclose\"],\n",
    "    'Count': [309, 244, 47, 19, -115, -84,  -15, -13]\n",
    "}"
   ]
  },
  {
   "cell_type": "code",
   "execution_count": 13,
   "id": "e1663554",
   "metadata": {
    "ExecuteTime": {
     "end_time": "2024-08-28T07:03:03.745283Z",
     "start_time": "2024-08-28T07:03:02.877915Z"
    }
   },
   "outputs": [
    {
     "data": {
      "image/png": "[encoded data removed]",
      "text/plain": [
       "<Figure size 1000x600 with 1 Axes>"
      ]
     },
     "metadata": {
      "needs_background": "light"
     },
     "output_type": "display_data"
    }
   ],
   "source": [
    "ProvideInfo_df = pd.DataFrame(ProvideInfo_data)\n",
    "ProvideInfo_df_sorted = ProvideInfo_df.sort_values(by='Count', ascending=True)\n",
    "\n",
    "plt.rcParams['font.family'] = \"Arial\"\n",
    "fig,ax = plt.subplots(figsize=(5,3), dpi=200)\n",
    "\n",
    "# Remove the top and right borders\n",
    "ax.spines['top'].set_visible(False)\n",
    "ax.spines['right'].set_visible(False)\n",
    "\n",
    "ProvideInfo_df_sorted['Count'].plot(kind='barh', color=ProvideInfo_df_sorted['Count'].map(lambda x: '#32408f' if x > 0 else '#c26200'), ax=ax)\n",
    "ax.set_yticklabels(ProvideInfo_df_sorted['Reason'])\n",
    "ax.set_xlim(-150, 350)\n",
    "\n",
    "def abs_value(x, pos):\n",
    "    return '{}'.format(int(abs(x)))\n",
    "\n",
    "formatter = ticker.FuncFormatter(abs_value)\n",
    "ax.xaxis.set_major_formatter(formatter)\n",
    "\n",
    "ax.xaxis.grid(True)\n",
    "\n",
    "plt.xlabel('Count', fontdict={'family' : 'Arial', 'size':12})\n",
    "plt.ylabel('Reason', fontdict={'family' : 'Arial', 'size':12})\n",
    "\n",
    "ax.yaxis.grid(False)  \n",
    "ax.xaxis.grid(True, linestyle='--', alpha=0.1)  \n",
    "\n",
    "# legend\n",
    "legend_elements = [Patch(facecolor='#32408f', edgecolor='#32408f', label='provided.'),\n",
    "                   Patch(facecolor='#c26200', edgecolor='#c26200', label='not provided.')]\n",
    "leg = ax.legend(handles=legend_elements, loc='lower right', prop={'family':'Arial', 'size':10})\n",
    "leg.get_frame().set_facecolor('white') #none\n",
    "leg.get_frame().set_edgecolor('black') \n",
    "leg.get_frame().set_linewidth(0.2) \n",
    "\n",
    "\n",
    "# value label\n",
    "for index, value in enumerate(ProvideInfo_df_sorted['Count']):\n",
    "    if value > 0:\n",
    "        plt.text(value + 5, index, str(abs(value)), va='center') \n",
    "    else:\n",
    "        plt.text(value - 5, index, str(abs(value)), ha='right', va='center')  \n",
    "\n",
    "# plt.savefig('00Results/images/RQ1/ProvideInfo.pdf', dpi=300, bbox_inches=\"tight\")\n",
    "\n",
    "plt.show()"
   ]
  },
  {
   "cell_type": "markdown",
   "id": "03d2994d",
   "metadata": {},
   "source": [
    "### Likert data"
   ]
  },
  {
   "cell_type": "code",
   "execution_count": 15,
   "id": "22c59e51",
   "metadata": {
    "ExecuteTime": {
     "end_time": "2024-08-28T07:10:32.380114Z",
     "start_time": "2024-08-28T07:10:32.343546Z"
    }
   },
   "outputs": [],
   "source": [
    "RQ1_df = copy.deepcopy(Analysis_df)\n",
    "\n",
    "order_list = [\n",
    "    \"Extremely unlikely\",\n",
    "    \"Unlikely\",\n",
    "    \"Neutral\",\n",
    "    \"Likely\",\n",
    "    \"Extremely likely\"\n",
    "]\n",
    "\n",
    "column_list = [\n",
    "   'Will you verify this advice?',\n",
    "   'Will you adopt this advice?',\n",
    "    'Do you think this consultation has breached your privacy?'\n",
    "]\n",
    "\n",
    "\n",
    "data_list = []\n",
    "for column in RQ1_df[column_list]:\n",
    "    frequencies = RQ1_df[column].value_counts().reindex(order_list)\n",
    "    percentages = (RQ1_df[column].value_counts(normalize=True) * 100).reindex(order_list)\n",
    "    data_list.append({\n",
    "        'label': column,\n",
    "        'frequencies': frequencies,\n",
    "        'percentages': percentages\n",
    "    })"
   ]
  },
  {
   "cell_type": "code",
   "execution_count": 17,
   "id": "2e86d73f",
   "metadata": {
    "ExecuteTime": {
     "end_time": "2024-08-28T07:11:06.746328Z",
     "start_time": "2024-08-28T07:11:05.759256Z"
    }
   },
   "outputs": [
    {
     "data": {
      "image/png": "[encoded data removed]",
      "text/plain": [
       "<Figure size 1200x500 with 1 Axes>"
      ]
     },
     "metadata": {
      "needs_background": "light"
     },
     "output_type": "display_data"
    }
   ],
   "source": [
    "# from matplotlib.patches import Patch\n",
    "# colors = [\"#E88B00\",\"#00838F\",\"#3B7097\"]\n",
    "# colors = plt.get_cmap('tab10').colors\n",
    "# colors = [\"#1f77b4\", \"#ff7f0e\",\"#2ca02c\", \"#009487\"]#\n",
    "# colors = [\"#003f5c\", \"#58508d\", \"#bc5090\"]\n",
    "\n",
    "lw = 0.1\n",
    "plt.rcParams['hatch.linewidth'] = lw\n",
    "\n",
    "colors = [\"#2c6b50\", \"#d27d4d\", \"#4487ae\"]\n",
    "\n",
    "hatches = ['+', '\\\\', 'x']\n",
    "\n",
    "with plt.style.context(['science','no-latex','grid']):\n",
    "    plt.rcParams['font.family'] = \"Arial\"\n",
    "\n",
    "#     fig, ax1 = plt.subplots(figsize=(10, 6))\n",
    "    fig,ax1 = plt.subplots(figsize=(6,2.5), dpi=200)\n",
    "    \n",
    "#     ax1.spines['top'].set_visible(False)\n",
    "#     ax1.spines['right'].set_visible(False)\n",
    "\n",
    "    width = 0.25\n",
    "    index = pd.Index(range(len(order_list)))\n",
    "\n",
    "    for i, data in enumerate(data_list):\n",
    "        bars = ax1.bar(index + width*i, data['frequencies'], width=width, label=data['label'], color=colors[i],hatch=hatches[i] * 7)\n",
    "\n",
    "        # percentage_label\n",
    "        for bar in bars:\n",
    "            height = bar.get_height()\n",
    "            percentage_label = f\"{data['percentages'].values[int(bar.get_x() + width*i)]:.2f}%\"\n",
    "            ax1.text(bar.get_x() + bar.get_width() / 2., height, percentage_label,\n",
    "                     ha='center', va='bottom',size=5)\n",
    "\n",
    "    ax1.set_xlabel('Response', fontdict={'family' : 'Arial', 'size':10})\n",
    "    ax1.set_ylabel('Count', fontdict={'family' : 'Arial', 'size':10})\n",
    "    ax1.set_yticks((0,100,200,300,400,500))\n",
    "    ax1.set_yticklabels((0,100,200,300,400,500),size=8)  \n",
    "    # ax1.set_title('Survey Responses Analysis')\n",
    "    ax1.set_xticks(index + width)\n",
    "    ax1.set_xticklabels(order_list,size=8)\n",
    "    \n",
    "    leg = ax1.legend(loc='best',ncol=1, prop={'family':'Arial', 'size':7})\n",
    "    leg.get_frame().set_facecolor('white') #none\n",
    "    leg.get_frame().set_edgecolor('black') \n",
    "    leg.get_frame().set_linewidth(0.2) \n",
    "    \n",
    "    ax1.yaxis.grid(True, linestyle='--', alpha=0.1)  \n",
    "    ax1.xaxis.grid(False)\n",
    "    \n",
    "#     plt.savefig('00Results/images/RQ1/VerifyTakeDisclose.pdf', dpi=300, bbox_inches=\"tight\")\n",
    "\n",
    "    plt.show()"
   ]
  },
  {
   "cell_type": "markdown",
   "id": "0a40a269",
   "metadata": {},
   "source": [
    "## Qualitative analysis"
   ]
  },
  {
   "cell_type": "markdown",
   "id": "3d30b784",
   "metadata": {
    "ExecuteTime": {
     "end_time": "2024-04-19T04:02:25.447762Z",
     "start_time": "2024-04-19T04:02:25.443771Z"
    }
   },
   "source": [
    "### Dissatisfaction"
   ]
  },
  {
   "cell_type": "code",
   "execution_count": 18,
   "id": "11c33695",
   "metadata": {
    "ExecuteTime": {
     "end_time": "2024-08-28T07:12:17.934432Z",
     "start_time": "2024-08-28T07:12:17.921635Z"
    },
    "scrolled": true
   },
   "outputs": [
    {
     "data": {
      "text/plain": [
       "None                                                                                                                                            479\n",
       "Unclear response or untargeted                                                                                                                  144\n",
       "Unknown source or concerns about accuracy                                                                                                        86\n",
       "Other [REDACTED]                                                                                                                                 34\n",
       "Unclear response or untargeted┋Unknown source or concerns about accuracy                                                                         22\n",
       "Unknown source or concerns about accuracy[REDACTED]                                                                                              20\n",
       "Unclear response or untargeted┋Chatbot overly asks for personal information                                                                      13\n",
       "Chatbot overly asks for personal information                                                                                                     11\n",
       "Unclear response or untargeted┋Unknown source or concerns about accuracy[REDACTED]                                                                9\n",
       "Other                                                                                                                                             5\n",
       "Unclear response or untargeted┋Other [REDACTED]                                                                                                   4\n",
       "Chatbot overly asks for personal information┋Unknown source or concerns about accuracy                                                            3\n",
       "Unclear response or untargeted┋Other                                                                                                              2\n",
       "Unclear response or untargeted┋Unknown source or concerns about accuracy┋Uncomfortable response                                                   1\n",
       "Chatbot overly asks for personal information┋Unknown source or concerns about accuracy┋Uncomfortable response                                     1\n",
       "Unknown source or concerns about accuracy┋Other                                                                                                   1\n",
       "Unknown source or concerns about accuracy[REDACTED]┋Other [REDACTED]                                                                              1\n",
       "Unclear response or untargeted┋Chatbot overly asks for personal information┋Unknown source or concerns about accuracy┋Uncomfortable response      1\n",
       "Unknown source or concerns about accuracy[REDACTED]┋Other                                                                                         1\n",
       "Unknown source or concerns about accuracy┋Uncomfortable response                                                                                  1\n",
       "Chatbot overly asks for personal information┋Unknown source or concerns about accuracy┋Other [REDACTED]                                           1\n",
       "Unclear response or untargeted┋Uncomfortable response                                                                                             1\n",
       "Unclear response or untargeted┋Unknown source or concerns about accuracy[REDACTED]┋Other [REDACTED]                                               1\n",
       "Unclear response or untargeted┋Uncomfortable response[REDACTED]                                                                                   1\n",
       "Uncomfortable response                                                                                                                            1\n",
       "Unclear response or untargeted┋Unknown source or concerns about accuracy┋Other [REDACTED]                                                         1\n",
       "Unclear response or untargeted┋Chatbot overly asks for personal information┋Unknown source or concerns about accuracy                             1\n",
       "Name: What is your dissatisfaction with the consultation experience?, dtype: int64"
      ]
     },
     "execution_count": 18,
     "metadata": {},
     "output_type": "execute_result"
    }
   ],
   "source": [
    "value_counts_unsatisfy = Analysis_df['What is your dissatisfaction with the consultation experience?'].value_counts()\n",
    "value_counts_unsatisfy"
   ]
  },
  {
   "cell_type": "code",
   "execution_count": 19,
   "id": "c097937c",
   "metadata": {
    "ExecuteTime": {
     "end_time": "2024-08-28T07:19:52.762940Z",
     "start_time": "2024-08-28T07:19:52.746772Z"
    }
   },
   "outputs": [],
   "source": [
    "unsatisfy_df = copy.deepcopy(Analysis_df)"
   ]
  },
  {
   "cell_type": "code",
   "execution_count": 20,
   "id": "eb4b0417",
   "metadata": {
    "ExecuteTime": {
     "end_time": "2024-08-28T07:19:53.819049Z",
     "start_time": "2024-08-28T07:19:53.785653Z"
    }
   },
   "outputs": [
    {
     "name": "stdout",
     "output_type": "stream",
     "text": [
      "Frequency of each option:\n",
      "Unclear response or untargeted: 201\n",
      "Unknown source or concerns about accuracy: 119\n",
      "None: 479\n",
      "Uncomfortable response: 6\n",
      "Other: 9\n",
      "Chatbot overly asks for personal information: 31\n",
      "\n",
      "Number of options with free text：75\n"
     ]
    }
   ],
   "source": [
    "def count_frequency(df, column_name):\n",
    "    counter = Counter()\n",
    "    for row in df[column_name]:\n",
    "        if pd.notnull(row):\n",
    "            # Splitting each option and determining if there is only one option\n",
    "            options = row.split('┋') if '┋' in row else [row]\n",
    "            for option in options:\n",
    "                # If it contains free text, skip it\n",
    "                if '[' in option and ']' in option:\n",
    "                    continue\n",
    "                counter[option] += 1\n",
    "    return counter\n",
    "\n",
    "\n",
    "\n",
    "# Calculate the number of options containing free text\n",
    "def count_freetext(df, column_name):\n",
    "    count = 0\n",
    "    for row in df[column_name]:\n",
    "        if pd.notnull(row):\n",
    "            options = row.split('┋') if '┋' in row else [row]\n",
    "            for option in options:\n",
    "                if '[' in option and ']' in option:\n",
    "                    count += 1\n",
    "    return count\n",
    "\n",
    "# Frequency of multiple choice statistics\n",
    "multichoice_counts = count_frequency(unsatisfy_df, \"What is your dissatisfaction with the consultation experience?\")\n",
    "freetext_counts = count_freetext(unsatisfy_df, \"What is your dissatisfaction with the consultation experience?\") \n",
    "\n",
    "print(f\"Frequency of each option:\")\n",
    "for option, count in multichoice_counts.items():\n",
    "    print(f\"{option}: {count}\")\n",
    "\n",
    "print(f\"\\nNumber of options with free text: {freetext_counts}\")"
   ]
  },
  {
   "cell_type": "code",
   "execution_count": 24,
   "id": "1e0c54bf",
   "metadata": {
    "ExecuteTime": {
     "end_time": "2024-08-28T07:58:31.849213Z",
     "start_time": "2024-08-28T07:58:31.823360Z"
    },
    "scrolled": false
   },
   "outputs": [
    {
     "name": "stdout",
     "output_type": "stream",
     "text": [
      "The frequency of option 'Unknown source or concerns about accuracy':\n",
      "Unknown source or concerns about accuracy[REDACTED]    32\n",
      "Name: 0, dtype: int64 \n",
      "\n",
      "The frequency of option 'Uncomfortable response':\n",
      "Uncomfortable response[REDACTED]    1\n",
      "Name: 0, dtype: int64 \n",
      "\n",
      "The frequency of option 'Other':\n",
      "Other [REDACTED]    42\n",
      "Name: 0, dtype: int64 \n",
      "\n",
      "The number of free text sections for each particular option is:\n",
      "Unknown source or concerns about accuracy: 32\n",
      "Uncomfortable response: 1\n",
      "Other: 42\n"
     ]
    }
   ],
   "source": [
    "# Counting the number of occurrences of a particular selection and its free-text portion separately\n",
    "individual_counts = {}\n",
    "freetext_counts_each_option = {}\n",
    "special_options = [\n",
    "    \"Unknown source or concerns about accuracy\",\n",
    "    \"Uncomfortable response\",\n",
    "    \"Other\"\n",
    "]\n",
    "\n",
    "for option in special_options:\n",
    "    contains_option = unsatisfy_df[unsatisfy_df[\"What is your dissatisfaction with the consultation experience?\"].str.contains(option, na=False)]\n",
    "    \n",
    "    # Clean up the other options and keep only the specific options and their free text parts.\n",
    "    # use regular expressions to extract the options with free text directly\n",
    "    cleaned_option = contains_option[\"What is your dissatisfaction with the consultation experience?\"].str.extractall(fr'({option}\\s?\\[.*?\\])')[0].value_counts()\n",
    "    #\\s?: matches an optional space (i.e. can match 0 or 1 space).\n",
    "    individual_counts[option] = cleaned_option\n",
    "    freetext_counts_each_option[option] = cleaned_option.sum()\n",
    "\n",
    "for option, counts in individual_counts.items():\n",
    "    print(f\"The frequency of option '{option}':\")\n",
    "    print(counts, '\\n')\n",
    "\n",
    "print(f\"The number of free text sections for each particular option is:\")\n",
    "for option, count in freetext_counts_each_option.items():\n",
    "    print(f\"{option}: {count}\")"
   ]
  },
  {
   "cell_type": "code",
   "execution_count": 25,
   "id": "002e2e55",
   "metadata": {
    "ExecuteTime": {
     "end_time": "2024-08-28T08:00:10.623297Z",
     "start_time": "2024-08-28T08:00:10.559965Z"
    }
   },
   "outputs": [
    {
     "data": {
      "text/html": [
       "<div>\n",
       "<style scoped>\n",
       "    .dataframe tbody tr th:only-of-type {\n",
       "        vertical-align: middle;\n",
       "    }\n",
       "\n",
       "    .dataframe tbody tr th {\n",
       "        vertical-align: top;\n",
       "    }\n",
       "\n",
       "    .dataframe thead th {\n",
       "        text-align: right;\n",
       "    }\n",
       "</style>\n",
       "<table border=\"1\" class=\"dataframe\">\n",
       "  <thead>\n",
       "    <tr style=\"text-align: right;\">\n",
       "      <th></th>\n",
       "      <th>option</th>\n",
       "      <th>frequency</th>\n",
       "      <th>specific option</th>\n",
       "    </tr>\n",
       "  </thead>\n",
       "  <tbody>\n",
       "    <tr>\n",
       "      <th>0</th>\n",
       "      <td>Unknown source or concerns about accuracy[REDA...</td>\n",
       "      <td>32</td>\n",
       "      <td>Unknown source or concerns about accuracy</td>\n",
       "    </tr>\n",
       "    <tr>\n",
       "      <th>1</th>\n",
       "      <td>Uncomfortable response[REDACTED]</td>\n",
       "      <td>1</td>\n",
       "      <td>Uncomfortable response</td>\n",
       "    </tr>\n",
       "    <tr>\n",
       "      <th>2</th>\n",
       "      <td>Other [REDACTED]</td>\n",
       "      <td>42</td>\n",
       "      <td>Other</td>\n",
       "    </tr>\n",
       "  </tbody>\n",
       "</table>\n",
       "</div>"
      ],
      "text/plain": [
       "                                              option  frequency  \\\n",
       "0  Unknown source or concerns about accuracy[REDA...         32   \n",
       "1                   Uncomfortable response[REDACTED]          1   \n",
       "2                                   Other [REDACTED]         42   \n",
       "\n",
       "                             specific option  \n",
       "0  Unknown source or concerns about accuracy  \n",
       "1                     Uncomfortable response  \n",
       "2                                      Other  "
      ]
     },
     "execution_count": 25,
     "metadata": {},
     "output_type": "execute_result"
    }
   ],
   "source": [
    "final_df = pd.DataFrame()\n",
    "\n",
    "for option, counts in individual_counts.items():\n",
    "    temp_df = counts.reset_index()\n",
    "    temp_df.columns = ['option', 'frequency']  \n",
    "    temp_df['specific option'] = option  \n",
    "    final_df = pd.concat([final_df, temp_df], ignore_index=True)\n",
    "\n",
    "# final_df.to_excel(\"Data/00Codebook/Discontent.xlsx\",index=False)\n",
    "final_df"
   ]
  },
  {
   "cell_type": "code",
   "execution_count": 32,
   "id": "8a6fc243",
   "metadata": {
    "ExecuteTime": {
     "end_time": "2024-08-28T08:30:48.161380Z",
     "start_time": "2024-08-28T08:30:48.056237Z"
    }
   },
   "outputs": [
    {
     "name": "stdout",
     "output_type": "stream",
     "text": [
      "(73, 7)\n",
      "Index(['option', 'codes1', 'codes2', 'final_codes', 'final_theme', 'frequency',\n",
      "       'specific option'],\n",
      "      dtype='object')\n"
     ]
    }
   ],
   "source": [
    "Codebook_Discontent = pd.read_excel('Data/00Codebook/Codebook-Discontent.xlsx')\n",
    "print(Codebook_Discontent.shape)\n",
    "print(Codebook_Discontent.columns)"
   ]
  },
  {
   "cell_type": "code",
   "execution_count": 33,
   "id": "594bbafd",
   "metadata": {
    "ExecuteTime": {
     "end_time": "2024-08-28T08:30:48.905296Z",
     "start_time": "2024-08-28T08:30:48.830766Z"
    }
   },
   "outputs": [
    {
     "name": "stdout",
     "output_type": "stream",
     "text": [
      "final_theme\n",
      "Unknown source or concerns about accuracy    23\n",
      "Slow response                                17\n",
      "Unclear response or untargeted               14\n",
      "Lengthy or repetitive responses               8\n",
      "UI design                                     6\n",
      "No further inquiries                          4\n",
      "No                                            3\n",
      "Not comprehensible enough                     3\n",
      "Uncomfortable answer                          1\n",
      "Name: frequency, dtype: int64\n"
     ]
    }
   ],
   "source": [
    "# Use regular expressions to replace different types of commas with a single comma and remove spaces before and after the comma\n",
    "Codebook_Discontent['final_theme'] = Codebook_Discontent['final_theme'].apply(\n",
    "    lambda x: re.sub(r'\\s*[，,]\\s*', ',', x).split(',') if pd.notnull(x) else x\n",
    ")\n",
    "\n",
    "# Count the number of each value of theme\n",
    "themes_counts = Codebook_Discontent.explode('final_theme').groupby('final_theme')['frequency'].sum().sort_values(ascending=False)\n",
    "\n",
    "# print(\"\\nthe number of each value of theme:\")\n",
    "print(themes_counts)"
   ]
  },
  {
   "cell_type": "code",
   "execution_count": 34,
   "id": "aee01456",
   "metadata": {
    "ExecuteTime": {
     "end_time": "2024-08-28T08:31:22.401601Z",
     "start_time": "2024-08-28T08:31:22.377897Z"
    }
   },
   "outputs": [
    {
     "name": "stdout",
     "output_type": "stream",
     "text": [
      "final_codes\n",
      "Slow response                 17\n",
      "untargeted                    12\n",
      "accuracy concern              10\n",
      "unknown source                 8\n",
      "UI design                      6\n",
      "repetitive responses           6\n",
      "treatment                      4\n",
      "no further inquiries           4\n",
      "Not comprehensible enough      3\n",
      "No                             3\n",
      "inaccurate                     3\n",
      "lengthy response               2\n",
      "non-professional               2\n",
      "Unclear response               2\n",
      "medicine difficult problem     1\n",
      "lack of practicality           1\n",
      "no specific drugs              1\n",
      "no supporting evidence         1\n",
      "referential significance       1\n",
      "lack of explanation            1\n",
      "rigid                          1\n",
      "scientific basis               1\n",
      "no authority                   1\n",
      "Name: frequency, dtype: int64\n"
     ]
    }
   ],
   "source": [
    "# Use regular expressions to replace different types of commas with a single comma and remove spaces before and after the comma\n",
    "Codebook_Discontent['final_codes'] = Codebook_Discontent['final_codes'].apply(\n",
    "    lambda x: re.sub(r'\\s*[，,]\\s*', ',', x).split(',') if pd.notnull(x) else x\n",
    ")\n",
    "\n",
    "# Codebook_PrivacyLeak_descriptions['codes_final'] = Codebook_PrivacyLeak_descriptions['codes_final'].apply(lambda x: x.split(',') if pd.notnull(x) else x)\n",
    "# Count the number of each value of theme\n",
    "Discontent_codes_counts = Codebook_Discontent.explode('final_codes').groupby('final_codes')['frequency'].sum().sort_values(ascending=False)\n",
    "\n",
    "print(Discontent_codes_counts)"
   ]
  },
  {
   "cell_type": "code",
   "execution_count": 35,
   "id": "6605bf36",
   "metadata": {
    "ExecuteTime": {
     "end_time": "2024-08-28T08:32:00.726105Z",
     "start_time": "2024-08-28T08:32:00.653840Z"
    }
   },
   "outputs": [
    {
     "name": "stdout",
     "output_type": "stream",
     "text": [
      "Slow response (17), untargeted (12), accuracy concern (10), unknown source (8), UI design (6), repetitive responses (6), treatment (4), no further inquiries (4), Not comprehensible enough (3), No (3), inaccurate (3), lengthy response (2), non-professional (2), Unclear response (2), medicine difficult problem (1), lack of practicality (1), no specific drugs (1), no supporting evidence (1), referential significance (1), lack of explanation (1), rigid (1), scientific basis (1), no authority (1),\n"
     ]
    }
   ],
   "source": [
    "# Use list derivatives to generate a list of strings in “value (count)” format.\n",
    "Discontent_formatted_counts = [f\"{value} ({count})\" for value, count in Discontent_codes_counts.items()]\n",
    "\n",
    "# Concatenates the string elements of a list into a single string, separated by commas and spaces\n",
    "Discontent_formatted_string = \", \".join(Discontent_formatted_counts) + \",\"\n",
    "\n",
    "print(Discontent_formatted_string)"
   ]
  },
  {
   "cell_type": "code",
   "execution_count": 36,
   "id": "d3f00420",
   "metadata": {
    "ExecuteTime": {
     "end_time": "2024-08-28T08:34:16.407197Z",
     "start_time": "2024-08-28T08:34:16.313922Z"
    }
   },
   "outputs": [
    {
     "name": "stdout",
     "output_type": "stream",
     "text": [
      "(10, 2)\n",
      "Index(['Theme', 'Codes'], dtype='object')\n"
     ]
    }
   ],
   "source": [
    "Compute_Discontent = pd.read_excel('Data/00Codebook/DiscontentCompute_Codes_Theme_count.xlsx')\n",
    "print(Compute_Discontent.shape)\n",
    "print(Compute_Discontent.columns)\n"
   ]
  },
  {
   "cell_type": "code",
   "execution_count": 37,
   "id": "4702b3ad",
   "metadata": {
    "ExecuteTime": {
     "end_time": "2024-08-28T08:35:46.240678Z",
     "start_time": "2024-08-28T08:35:46.157032Z"
    }
   },
   "outputs": [
    {
     "name": "stdout",
     "output_type": "stream",
     "text": [
      "                                       Theme  Total Count\n",
      "0            Lengthy or repetitive responses            8\n",
      "1                       No further inquiries            4\n",
      "2                  Not comprehensible enough            3\n",
      "3                                      Other            9\n",
      "4     Overly asking for personal information           31\n",
      "5                              Slow Response           17\n",
      "6                                  UI design            6\n",
      "7             Unclear response or untargeted          218\n",
      "8                       Uncomfortable answer            7\n",
      "9  Unknown source or concerns about accuracy          151\n"
     ]
    }
   ],
   "source": [
    "# Parsing and totalizing code occurrences\n",
    "def parse_codes(codes_str):\n",
    "    # Extracting code from strings using regular expressions\n",
    "    codes = re.findall(r'(\\w+(?:\\s+\\w+)*)\\s*\\((\\d+)\\)', codes_str)\n",
    "    # Total number\n",
    "    total_count = sum(int(count) for code, count in codes)\n",
    "    return total_count\n",
    "\n",
    "# Apply the function to each row of Codes and accumulate the total number of times for each Theme\n",
    "Compute_Discontent['Total Count'] = Compute_Discontent['Codes'].apply(parse_codes)\n",
    "\n",
    "# Now that each Theme corresponds to the total count of the respective Codes, we directly group the Themes and then add up the Total Count\n",
    "theme_counts = Compute_Discontent.groupby('Theme')['Total Count'].sum().reset_index()\n",
    "\n",
    "print(theme_counts)"
   ]
  },
  {
   "cell_type": "code",
   "execution_count": 38,
   "id": "7202eb57",
   "metadata": {
    "ExecuteTime": {
     "end_time": "2024-08-28T08:36:35.415326Z",
     "start_time": "2024-08-28T08:36:35.285577Z"
    }
   },
   "outputs": [
    {
     "name": "stdout",
     "output_type": "stream",
     "text": [
      "(73, 7)\n",
      "Index(['option', 'codes1', 'codes2', 'final_codes', 'final_theme', 'frequency',\n",
      "       'specific option'],\n",
      "      dtype='object')\n",
      "Cohen's Kappa: 0.8545384018619084\n"
     ]
    }
   ],
   "source": [
    "Discontent = copy.deepcopy(Codebook_Discontent)\n",
    "print(Discontent.shape)\n",
    "print(Discontent.columns)\n",
    "# Codebook_WhatLeak[[\"codes1\",\"codes2\"]]\n",
    "codes1_list = Discontent.loc[Discontent.index.repeat(Discontent['frequency'])]['codes1'].tolist()\n",
    "codes2_list = Discontent.loc[Discontent.index.repeat(Discontent['frequency'])]['codes2'].tolist()\n",
    "\n",
    "# 计算Cohen's Kappa\n",
    "kappa = cohen_kappa_score(codes1_list, codes2_list)\n",
    "print(\"Cohen's Kappa:\", kappa)"
   ]
  },
  {
   "cell_type": "markdown",
   "id": "a65fb82f",
   "metadata": {},
   "source": [
    "### What privacy has been compromised? (Optional)"
   ]
  },
  {
   "cell_type": "code",
   "execution_count": 39,
   "id": "0edc4947",
   "metadata": {
    "ExecuteTime": {
     "end_time": "2024-08-28T08:38:46.793567Z",
     "start_time": "2024-08-28T08:38:46.730329Z"
    },
    "scrolled": false
   },
   "outputs": [
    {
     "data": {
      "text/plain": [
       "(Skipped)    788\n",
       "REDACTED      36\n",
       "(Empty)       22\n",
       "Name: What privacy has been compromised? (Optional), dtype: int64"
      ]
     },
     "execution_count": 39,
     "metadata": {},
     "output_type": "execute_result"
    }
   ],
   "source": [
    "value_counts_leakPrivacy = Analysis_df['What privacy has been compromised? (Optional)'].value_counts()\n",
    "value_counts_leakPrivacy\n"
   ]
  },
  {
   "cell_type": "code",
   "execution_count": 175,
   "id": "a6cccf0b",
   "metadata": {
    "ExecuteTime": {
     "end_time": "2024-04-20T07:43:05.062806Z",
     "start_time": "2024-04-20T07:43:05.048443Z"
    }
   },
   "outputs": [],
   "source": [
    "# value_counts_leakPrivacy.to_excel('Data/00Codebook/whatLeak.xlsx')"
   ]
  },
  {
   "cell_type": "code",
   "execution_count": 40,
   "id": "c59cb036",
   "metadata": {
    "ExecuteTime": {
     "end_time": "2024-08-28T08:40:09.319019Z",
     "start_time": "2024-08-28T08:40:09.221749Z"
    }
   },
   "outputs": [
    {
     "name": "stdout",
     "output_type": "stream",
     "text": [
      "(33, 6)\n",
      "Index(['What privacy has been compromised? (Optional)', 'codes1', 'codes2',\n",
      "       'codes_final', 'theme', 'count'],\n",
      "      dtype='object')\n"
     ]
    }
   ],
   "source": [
    "Codebook_WhatLeak = pd.read_excel('Data/00Codebook/Codebook-whatLeak.xlsx')\n",
    "print(Codebook_WhatLeak.shape)\n",
    "print(Codebook_WhatLeak.columns)"
   ]
  },
  {
   "cell_type": "code",
   "execution_count": 41,
   "id": "322946a0",
   "metadata": {
    "ExecuteTime": {
     "end_time": "2024-08-28T08:41:15.665655Z",
     "start_time": "2024-08-28T08:41:15.619288Z"
    }
   },
   "outputs": [
    {
     "name": "stdout",
     "output_type": "stream",
     "text": [
      "theme\n",
      "Basic information         29\n",
      "None or empty             25\n",
      "Healthcare information     5\n",
      "Issues inquired about      3\n",
      "Name: count, dtype: int64\n",
      "codes_final\n",
      "empty                  22\n",
      "age                    16\n",
      "career                  7\n",
      "identity                4\n",
      "gender                  3\n",
      "symptoms                3\n",
      "question                3\n",
      "none                    3\n",
      "health condition        2\n",
      "basic information       2\n",
      "private information     1\n",
      "telephone number        1\n",
      "identity card           1\n",
      "personal profile        1\n",
      "name                    1\n",
      "hobbies                 1\n",
      "habits                  1\n",
      "wechat profile          1\n",
      "Name: count, dtype: int64\n"
     ]
    }
   ],
   "source": [
    "Codebook_WhatLeak['codes_final'] = Codebook_WhatLeak['codes_final'].apply(\n",
    "    lambda x: re.sub(r'\\s*[，,]\\s*', ',', x).split(',') if pd.notnull(x) else x\n",
    ")\n",
    "\n",
    "Codebook_WhatLeak['theme'] = Codebook_WhatLeak['theme'].apply(\n",
    "    lambda x: re.sub(r'\\s*[，,]\\s*', ',', x).split(',') if pd.notnull(x) else x\n",
    ")\n",
    "\n",
    "codes1_counts = Codebook_WhatLeak.explode('codes_final').groupby('codes_final')['count'].sum().sort_values(ascending=False)\n",
    "\n",
    "themes_counts = Codebook_WhatLeak.explode('theme').groupby('theme')['count'].sum().sort_values(ascending=False)\n",
    "\n",
    "# print(\"\\nFrequency of each value of theme:\")\n",
    "print(themes_counts)\n",
    "print(codes1_counts)"
   ]
  },
  {
   "cell_type": "code",
   "execution_count": 42,
   "id": "2ed54b8c",
   "metadata": {
    "ExecuteTime": {
     "end_time": "2024-08-28T08:41:29.763161Z",
     "start_time": "2024-08-28T08:41:29.705229Z"
    }
   },
   "outputs": [
    {
     "name": "stdout",
     "output_type": "stream",
     "text": [
      "empty (22), age (16), career (7), identity (4), gender (3), symptoms (3), question (3), none (3), health condition (2), basic information (2), private information (1), telephone number (1), identity card (1), personal profile (1), name (1), hobbies (1), habits (1), wechat profile (1),\n"
     ]
    }
   ],
   "source": [
    "WhatLeak_formatted_counts = [f\"{value} ({count})\" for value, count in codes1_counts.items()]\n",
    "WhatLeak_formatted_string = \", \".join(WhatLeak_formatted_counts) + \",\"\n",
    "\n",
    "print(WhatLeak_formatted_string)"
   ]
  },
  {
   "cell_type": "code",
   "execution_count": 48,
   "id": "4c167dc9",
   "metadata": {
    "ExecuteTime": {
     "end_time": "2024-08-28T08:47:25.551842Z",
     "start_time": "2024-08-28T08:47:25.464603Z"
    }
   },
   "outputs": [
    {
     "name": "stdout",
     "output_type": "stream",
     "text": [
      "(29, 6)\n",
      "Index(['What privacy has been compromised? (Optional)', 'codes1', 'codes2',\n",
      "       'codes_final', 'theme', 'count'],\n",
      "      dtype='object')\n"
     ]
    }
   ],
   "source": [
    "# Reading a new file for kappa calculation is to discount empty, none, etc.\n",
    "Kappa_Codebook_WhatLeak = pd.read_excel('Data/00Codebook/Kappa-Codebook-whatLeak.xlsx')\n",
    "print(Kappa_Codebook_WhatLeak.shape)\n",
    "print(Kappa_Codebook_WhatLeak.columns)"
   ]
  },
  {
   "cell_type": "code",
   "execution_count": 49,
   "id": "ccd231c0",
   "metadata": {
    "ExecuteTime": {
     "end_time": "2024-08-28T08:47:28.292180Z",
     "start_time": "2024-08-28T08:47:28.278151Z"
    }
   },
   "outputs": [],
   "source": [
    "# Codebook_WhatLeak[[\"codes1\",\"codes2\"]]\n",
    "codes1_list = Kappa_Codebook_WhatLeak.loc[Kappa_Codebook_WhatLeak.index.repeat(Kappa_Codebook_WhatLeak['count'])]['codes1'].tolist()\n",
    "codes2_list = Kappa_Codebook_WhatLeak.loc[Kappa_Codebook_WhatLeak.index.repeat(Kappa_Codebook_WhatLeak['count'])]['codes2'].tolist()"
   ]
  },
  {
   "cell_type": "code",
   "execution_count": 50,
   "id": "0cd92ac0",
   "metadata": {
    "ExecuteTime": {
     "end_time": "2024-08-28T08:47:29.529506Z",
     "start_time": "2024-08-28T08:47:29.472130Z"
    }
   },
   "outputs": [
    {
     "name": "stdout",
     "output_type": "stream",
     "text": [
      "Cohen's Kappa: 0.9343936381709741\n"
     ]
    }
   ],
   "source": [
    "kappa = cohen_kappa_score(codes1_list, codes2_list)\n",
    "print(\"Cohen's Kappa:\", kappa)"
   ]
  }
 ],
 "metadata": {
  "kernelspec": {
   "display_name": "Python 3 (ipykernel)",
   "language": "python",
   "name": "python3"
  },
  "language_info": {
   "codemirror_mode": {
    "name": "ipython",
    "version": 3
   },
   "file_extension": ".py",
   "mimetype": "text/x-python",
   "name": "python",
   "nbconvert_exporter": "python",
   "pygments_lexer": "ipython3",
   "version": "3.11.5"
  },
  "toc": {
   "base_numbering": 1,
   "nav_menu": {},
   "number_sections": true,
   "sideBar": true,
   "skip_h1_title": false,
   "title_cell": "Table of Contents",
   "title_sidebar": "Contents",
   "toc_cell": true,
   "toc_position": {
    "height": "calc(100% - 180px)",
    "left": "10px",
    "top": "150px",
    "width": "350.375px"
   },
   "toc_section_display": true,
   "toc_window_display": true
  },
  "varInspector": {
   "cols": {
    "lenName": 16,
    "lenType": 16,
    "lenVar": 40
   },
   "kernels_config": {
    "python": {
     "delete_cmd_postfix": "",
     "delete_cmd_prefix": "del ",
     "library": "var_list.py",
     "varRefreshCmd": "print(var_dic_list())"
    },
    "r": {
     "delete_cmd_postfix": ") ",
     "delete_cmd_prefix": "rm(",
     "library": "var_list.r",
     "varRefreshCmd": "cat(var_dic_list()) "
    }
   },
   "types_to_exclude": [
    "module",
    "function",
    "builtin_function_or_method",
    "instance",
    "_Feature"
   ],
   "window_display": false
  }
 },
 "nbformat": 4,
 "nbformat_minor": 5
}
